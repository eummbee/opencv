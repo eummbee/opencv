{
 "cells": [
  {
   "cell_type": "code",
   "execution_count": 1,
   "metadata": {},
   "outputs": [],
   "source": [
    "import cv2\n",
    "import numpy as np\n",
    "img = cv2.imread(\"images/dilate.png\")\n",
    "\n",
    "kernel = np.ones((3,3), dtype=np.uint8)\n",
    "dilate_1 = cv2.dilate(img, kernel, iterations=1)\n",
    "dilate_2 = cv2.dilate(img, kernel, iterations=2)\n",
    "dilate_3 = cv2.dilate(img, kernel, iterations=3)\n",
    "\n",
    "cv2.imshow(\"1\", dilate_1)\n",
    "cv2.imshow(\"2\", dilate_2)\n",
    "cv2.imshow(\"3\", dilate_3)\n",
    "\n",
    "cv2.waitKey(0)\n",
    "cv2.destroyAllWindows()"
   ]
  },
  {
   "cell_type": "code",
   "execution_count": 2,
   "metadata": {},
   "outputs": [],
   "source": [
    "import cv2\n",
    "import numpy as np\n",
    "img = cv2.imread(\"images/dilate.png\")\n",
    "\n",
    "kernel = np.ones((3,3), dtype=np.uint8)\n",
    "dilate_3 = cv2.dilate(img, kernel, iterations=3)\n",
    "erode = cv2.erode(dilate_3, kernel, iterations=3)\n",
    "\n",
    "cv2.imshow(\"3\", dilate_3)\n",
    "cv2.imshow(\"erode\", erode)\n",
    "\n",
    "cv2.waitKey(0)\n",
    "cv2.destroyAllWindows()"
   ]
  },
  {
   "cell_type": "code",
   "execution_count": 5,
   "metadata": {},
   "outputs": [],
   "source": [
    "img = cv2.imread(\"images/card.jpg\")\n",
    "\n",
    "width, height = 600, 350\n",
    "src = np.array([[54,261], [981,128], [1213,560], [194,735]], dtype=np.float32)\n",
    "target = np.array([[0,0], [width, 0], [width, height], [0, height]], dtype=np.float32)\n",
    "mat = cv2.getPerspectiveTransform(src, target)\n",
    "result = cv2.warpPerspective(img, mat, (width, height))\n",
    "\n",
    "cv2.imshow(\"img\", img)\n",
    "cv2.imshow(\"result\", result)\n",
    "cv2.waitKey(0)\n",
    "cv2.destroyAllWindows()"
   ]
  }
 ],
 "metadata": {
  "kernelspec": {
   "display_name": "my_cv",
   "language": "python",
   "name": "python3"
  },
  "language_info": {
   "codemirror_mode": {
    "name": "ipython",
    "version": 3
   },
   "file_extension": ".py",
   "mimetype": "text/x-python",
   "name": "python",
   "nbconvert_exporter": "python",
   "pygments_lexer": "ipython3",
   "version": "3.13.1"
  }
 },
 "nbformat": 4,
 "nbformat_minor": 2
}
