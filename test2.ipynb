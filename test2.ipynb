{
 "cells": [
  {
   "cell_type": "code",
   "execution_count": 1,
   "metadata": {},
   "outputs": [],
   "source": [
    "import cv2\n",
    "import numpy as np"
   ]
  },
  {
   "cell_type": "code",
   "execution_count": 3,
   "metadata": {},
   "outputs": [],
   "source": [
    "img = np.zeros((400,600,3), dtype = np.uint8)\n",
    "img[100:200,300:400] = (255,255,255)\n",
    "\n",
    "cv2.imshow(\"img\", img)\n",
    "cv2.waitKey(0)\n",
    "cv2.destroyAllWindows()"
   ]
  },
  {
   "cell_type": "code",
   "execution_count": 7,
   "metadata": {},
   "outputs": [],
   "source": [
    "img = np.zeros((400,600,3), dtype = np.uint8)\n",
    "cv2.line(img, (100,100),(300,350), (255,255,255), 5, cv2.LINE_AA)\n",
    "cv2.circle(img, (200,200), 50, (0,255,0), cv2.FILLED)\n",
    "cv2.rectangle(img, (150,150),(250,250),(0,0,255),10)\n",
    "cv2.imshow(\"img\",img)\n",
    "cv2.waitKey(0)\n",
    "cv2.destroyAllWindows()"
   ]
  },
  {
   "cell_type": "code",
   "execution_count": 9,
   "metadata": {},
   "outputs": [],
   "source": [
    "img = np.zeros((400,600,3), dtype = np.uint8)\n",
    "cv2.putText(img, \"Hello World!\", (50,50), cv2.FONT_HERSHEY_COMPLEX | cv2.FONT_ITALIC, 2, (255,13,225), 2)\n",
    "cv2.imshow(\"text\", img)\n",
    "cv2.waitKey(0)\n",
    "cv2.destroyAllWindows()"
   ]
  },
  {
   "cell_type": "code",
   "execution_count": 11,
   "metadata": {},
   "outputs": [],
   "source": [
    "img = cv2.imread(\"images/gom.jpg\")\n",
    "dst = cv2.resize(img, None, fx=1.5, fy=1.5)\n",
    "cv2.imshow(\"img\", img)\n",
    "cv2.imshow(\"resize\", dst)\n",
    "cv2.waitKey(0)\n",
    "cv2.destroyAllWindows()"
   ]
  },
  {
   "cell_type": "code",
   "execution_count": 15,
   "metadata": {},
   "outputs": [],
   "source": [
    "img = cv2.imread(\"images/gom.jpg\")\n",
    "affine = cv2.getRotationMatrix2D((img.shape[1]/2, img.shape[0]/2), -60, 1)\n",
    "dst = cv2.warpAffine(img, affine, (img.shape[1], img.shape[0]))\n",
    "cv2.imshow(\"img\", img)\n",
    "cv2.imshow(\"rotation\", dst)\n",
    "cv2.waitKey(0)\n",
    "cv2.destroyAllWindows()"
   ]
  },
  {
   "cell_type": "code",
   "execution_count": null,
   "metadata": {},
   "outputs": [],
   "source": []
  }
 ],
 "metadata": {
  "kernelspec": {
   "display_name": "my_cv",
   "language": "python",
   "name": "python3"
  },
  "language_info": {
   "codemirror_mode": {
    "name": "ipython",
    "version": 3
   },
   "file_extension": ".py",
   "mimetype": "text/x-python",
   "name": "python",
   "nbconvert_exporter": "python",
   "pygments_lexer": "ipython3",
   "version": "3.13.1"
  }
 },
 "nbformat": 4,
 "nbformat_minor": 2
}
