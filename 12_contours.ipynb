{
 "cells": [
  {
   "cell_type": "markdown",
   "metadata": {},
   "source": [
    "## 12. 윤곽선 검출\n",
    "- 경계선을 연결한 선\n",
    "- 흑백 이미지 -> 이진화 -> 윤곽선 찾기(findContours) -> 윤곽선 그리기(drawContours)"
   ]
  },
  {
   "cell_type": "code",
   "execution_count": 2,
   "metadata": {},
   "outputs": [],
   "source": [
    "import cv2\n",
    "IU = \"images/iu.png\"\n",
    "GOM = \"images/gom.jpg\""
   ]
  },
  {
   "cell_type": "code",
   "execution_count": 5,
   "metadata": {},
   "outputs": [],
   "source": [
    "img = cv2.imread(IU)\n",
    "coppied = img.copy()\n",
    "coppied1 = img.copy()\n",
    "\n",
    "#그레이 스케일로 변환\n",
    "gray = cv2.cvtColor(coppied, cv2.COLOR_BGR2GRAY)\n",
    "\n",
    "#이진화\n",
    "ret, binary = cv2.threshold(gray, -1, 255, cv2.THRESH_BINARY | cv2.THRESH_OTSU)\n",
    "\n",
    "#윤곽선 찾기\n",
    "contours, hierachy = cv2.findContours(binary, cv2.RETR_LIST, cv2.CHAIN_APPROX_NONE)\n",
    "contours1, hierachy1 = cv2.findContours(binary, cv2.RETR_EXTERNAL, cv2.CHAIN_APPROX_NONE)\n",
    "\n",
    "#윤곽선 그리기\n",
    "cv2.drawContours(coppied, contours, -1, (0,255,0), 2)\n",
    "cv2.drawContours(coppied1, contours1, -1, (0,255,0), 2)\n",
    "\n",
    "cv2.imshow(\"img\", img)\n",
    "cv2.imshow(\"contours\", coppied)\n",
    "cv2.imshow(\"contours1\", coppied1)\n",
    "\n",
    "cv2.waitKey(0)\n",
    "cv2.destroyAllWindows()"
   ]
  },
  {
   "cell_type": "markdown",
   "metadata": {},
   "source": [
    "### 12-2. BoundingRect\n",
    "- 윤곽선을 둘러싼 사각형"
   ]
  },
  {
   "cell_type": "code",
   "execution_count": 29,
   "metadata": {},
   "outputs": [
    {
     "name": "stdout",
     "output_type": "stream",
     "text": [
      "[[[0 0]]\n",
      "\n",
      " [[0 1]]\n",
      "\n",
      " [[0 2]]\n",
      "\n",
      " ...\n",
      "\n",
      " [[3 0]]\n",
      "\n",
      " [[2 0]]\n",
      "\n",
      " [[1 0]]]\n"
     ]
    }
   ],
   "source": [
    "img = cv2.imread(IU)\n",
    "coppied = img.copy()\n",
    "\n",
    "gray = cv2.cvtColor(coppied, cv2.COLOR_BGR2GRAY)\n",
    "ret, binary = cv2.threshold(gray, -1, 255, cv2.THRESH_BINARY | cv2.THRESH_OTSU)\n",
    "\n",
    "contours, hierachy = cv2.findContours(binary, cv2.RETR_EXTERNAL, cv2.CHAIN_APPROX_NONE)\n",
    "\n",
    "for contour in contours:\n",
    "    x, y, width, height = cv2.boundingRect(contour)\n",
    "    cv2.rectangle(coppied, (x,y), (x+width, y+height), (0,255,0), 2)\n",
    "\n",
    "cv2.imshow(\"contours\", coppied)\n",
    "\n",
    "cv2.waitKey(0)\n",
    "cv2.destroyAllWindows() "
   ]
  },
  {
   "cell_type": "markdown",
   "metadata": {},
   "source": [
    "### 실습3. 순서대로 박스 표시\n",
    "- 윤곽선을 찾고 : 흑백변환 -> 이진화 -> findContours\n",
    "- 윤곽선의 인덱스를 선택해서 : 트랙바이용\n",
    "- 해당 인덱스의 bounding rect를 추출하고, : cv2.boundingRect\n",
    "- 화면에 사각형을 그린다. : cv2.rectangle"
   ]
  },
  {
   "cell_type": "code",
   "execution_count": 1,
   "metadata": {},
   "outputs": [],
   "source": [
    "import cv2\n",
    "img = cv2.imread(\"images/vehicles.png\")\n",
    "coppied = img.copy()\n",
    "\n",
    "#윤곽선 찾기\n",
    "gray = cv2.cvtColor(coppied, cv2.COLOR_BGR2GRAY)\n",
    "ret, binary = cv2.threshold(gray, -1, 255, cv2.THRESH_BINARY | cv2.THRESH_OTSU)\n",
    "contours, hierachy = cv2.findContours(binary, cv2.RETR_EXTERNAL, cv2.CHAIN_APPROX_SIMPLE)\n",
    "\n",
    "\n",
    "#트랙바 만들기\n",
    "name = \"contour\"\n",
    "trackbar_name = \"Index\"\n",
    "cv2.namedWindow(name)\n",
    "cv2.createTrackbar(\"Index\", name, 0, len(contours)-1, lambda x: x)\n",
    "\n",
    "#사각형 만들기\n",
    "def rectangle():\n",
    "    coppied = img.copy() #사각형을 하나씩 보여야 하기 때문에 함수가 실행될 때 마다 복사본을 만들어야 한다.\n",
    "    x, y, width, height = cv2.boundingRect(contours[index])\n",
    "    cv2.rectangle(coppied, (x,y), (x+width, y+height), (0,255,0), 2, cv2.LINE_AA)\n",
    "    cv2.imshow(name, coppied)\n",
    "\n",
    "\n",
    "#트랙바 이용\n",
    "while True:\n",
    "    index = cv2.getTrackbarPos(trackbar_name, name)\n",
    "    rectangle()\n",
    "    \n",
    "    if cv2.waitKey(1) == ord('q'):\n",
    "        break\n",
    "\n",
    "\n",
    "cv2.destroyAllWindows()\n"
   ]
  },
  {
   "cell_type": "markdown",
   "metadata": {},
   "source": [
    "### 12-3. 윤곽선의 면적"
   ]
  },
  {
   "cell_type": "code",
   "execution_count": 2,
   "metadata": {},
   "outputs": [],
   "source": [
    "import cv2\n",
    "img = cv2.imread(\"images/vehicles.png\")\n",
    "coppied = img.copy()\n",
    "\n",
    "#윤곽선 찾기\n",
    "gray = cv2.cvtColor(coppied, cv2.COLOR_BGR2GRAY)\n",
    "ret, binary = cv2.threshold(gray, -1, 255, cv2.THRESH_BINARY | cv2.THRESH_OTSU)\n",
    "contours, hierachy = cv2.findContours(binary, cv2.RETR_EXTERNAL, cv2.CHAIN_APPROX_SIMPLE)\n",
    "\n",
    "#사각형 만들기\n",
    "def rectangle():\n",
    "    coppied = img.copy() #사각형을 하나씩 보여야 하기 때문에 함수가 실행될 때 마다 복사본을 만들어야 한다.\n",
    "    x, y, width, height = cv2.boundingRect(filtered_contours[index])\n",
    "    cv2.rectangle(coppied, (x,y), (x+width, y+height), (0,255,0), 2, cv2.LINE_AA)\n",
    "    cv2.imshow(name, coppied)\n",
    "\n",
    "#윤곽선의 면적이 특정 크기 이상인 윤곽선을 새로운 리스트에 저장\n",
    "filtered_contours=[]\n",
    "MIN_AREA = 1000\n",
    "for contour in contours:\n",
    "    if cv2.contourArea(contour) > MIN_AREA:\n",
    "        filtered_contours.append(contour)\n",
    "\n",
    "#트랙바 만들기\n",
    "name = \"contour\"\n",
    "trackbar_name = \"Index\"\n",
    "cv2.namedWindow(name)\n",
    "cv2.createTrackbar(\"Index\", name, 0, len(filtered_contours)-1, lambda x: x)\n",
    "\n",
    "\n",
    "#트랙바 이용\n",
    "while True:\n",
    "    index = cv2.getTrackbarPos(trackbar_name, name)\n",
    "    rectangle()\n",
    "    \n",
    "    \n",
    "    if cv2.waitKey(1) == ord('q'):\n",
    "        break\n",
    "\n",
    "\n",
    "cv2.destroyAllWindows()"
   ]
  },
  {
   "cell_type": "markdown",
   "metadata": {},
   "source": [
    "### 실습4. 카드 하나씩 새 창에 표시"
   ]
  },
  {
   "cell_type": "code",
   "execution_count": 8,
   "metadata": {},
   "outputs": [
    {
     "name": "stdout",
     "output_type": "stream",
     "text": [
      "[[468, 54], [327, 54], [185, 54], [44, 54]]\n"
     ]
    }
   ],
   "source": [
    "import cv2\n",
    "img = cv2.imread(\"images/playing_cards.png\")\n",
    "coppied = img.copy()\n",
    "\n",
    "#윤곽선 찾기\n",
    "gray = cv2.cvtColor(coppied, cv2.COLOR_BGR2GRAY)\n",
    "ret, binary = cv2.threshold(gray, -1, 255, cv2.THRESH_BINARY | cv2.THRESH_OTSU)\n",
    "contours, hierachy = cv2.findContours(binary, cv2.RETR_EXTERNAL, cv2.CHAIN_APPROX_SIMPLE)\n",
    "\n",
    "#윤곽선의 면적이 특정 크기 이상인 윤곽선을 새로운 리스트에 저장\n",
    "filtered_contours=[]\n",
    "MIN_AREA = 50\n",
    "for contour in contours:\n",
    "    if cv2.contourArea(contour) > MIN_AREA:\n",
    "        filtered_contours.append(contour)\n",
    "\n",
    "place = []\n",
    "for contour in filtered_contours:\n",
    "    x, y, width, height = cv2.boundingRect(contour)\n",
    "    cv2.rectangle(coppied, (x,y), (x+width, y+height), (0,255,0), 2)\n",
    "    place.append([x,y])\n",
    "\n",
    "\n",
    "for idx, i in enumerate(place):\n",
    "    cropped = img[i[1]:i[1]+height, i[0]:i[0]+width]\n",
    "    cv2.imshow(f\"crop{idx}\", cropped) # 창 이름을 바꾸어주어야 여러창이 뜬다.\n",
    "    \n",
    "print(place)\n",
    "cv2.imshow(\"contour\", coppied)\n",
    "\n",
    "cv2.waitKey(0)\n",
    "cv2.destroyAllWindows()"
   ]
  },
  {
   "cell_type": "code",
   "execution_count": 9,
   "metadata": {},
   "outputs": [],
   "source": [
    "import cv2\n",
    "img = cv2.imread(\"images/playing_cards.png\")\n",
    "coppied = img.copy()\n",
    "\n",
    "#윤곽선 찾기\n",
    "gray = cv2.cvtColor(coppied, cv2.COLOR_BGR2GRAY)\n",
    "ret, binary = cv2.threshold(gray, -1, 255, cv2.THRESH_BINARY | cv2.THRESH_OTSU)\n",
    "contours, hierachy = cv2.findContours(binary, cv2.RETR_EXTERNAL, cv2.CHAIN_APPROX_SIMPLE)\n",
    "\n",
    "for idx, contour in enumerate(contours): #인덱스를 불러옴\n",
    "    if cv2.contourArea(contour) > 25000:\n",
    "        x, y, width, height = cv2.boundingRect(contour)\n",
    "        cv2.rectangle(img, (x,y), (x+width, y+height), (0,255,0), 2)\n",
    "        crop = img[y:y+height, x:x+width]\n",
    "        cv2.imshow(f\"card {idx}\", crop)\n",
    "\n",
    "cv2.imshow(\"img\", img)\n",
    "cv2.waitKey(0)\n",
    "cv2.destroyAllWindows()"
   ]
  }
 ],
 "metadata": {
  "kernelspec": {
   "display_name": "my_cv",
   "language": "python",
   "name": "python3"
  },
  "language_info": {
   "codemirror_mode": {
    "name": "ipython",
    "version": 3
   },
   "file_extension": ".py",
   "mimetype": "text/x-python",
   "name": "python",
   "nbconvert_exporter": "python",
   "pygments_lexer": "ipython3",
   "version": "3.13.1"
  }
 },
 "nbformat": 4,
 "nbformat_minor": 2
}
