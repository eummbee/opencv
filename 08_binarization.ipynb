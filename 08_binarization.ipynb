{
 "cells": [
  {
   "cell_type": "markdown",
   "metadata": {},
   "source": [
    "## 08. 이진화\n",
    "- 임계값을 기준으로 색상을 흰색과 검은색으로 나누는 것"
   ]
  },
  {
   "cell_type": "code",
   "execution_count": 1,
   "metadata": {},
   "outputs": [],
   "source": [
    "import cv2\n",
    "import numpy as np\n",
    "\n",
    "BOOK = \"images/book2.jpg\""
   ]
  },
  {
   "cell_type": "markdown",
   "metadata": {},
   "source": [
    "### 8-1. 기본 이진화\n",
    "- ret, binary = cv2.threshold()"
   ]
  },
  {
   "cell_type": "code",
   "execution_count": 11,
   "metadata": {},
   "outputs": [],
   "source": [
    "img = cv2.imread(BOOK, cv2.IMREAD_GRAYSCALE)\n",
    "\n",
    "ret, binary = cv2.threshold(img, 127, 255, cv2.THRESH_BINARY) #임계값보다 크면 흰색, 작으면 검은색이라는 옵션\n",
    "\n",
    "cv2.imshow(\"img\", img)\n",
    "cv2.imshow(\"binary\", binary)\n",
    "\n",
    "cv2.waitKey(0)\n",
    "cv2.destroyAllWindows()"
   ]
  },
  {
   "cell_type": "code",
   "execution_count": 15,
   "metadata": {},
   "outputs": [],
   "source": [
    "img = cv2.imread(\"images/gom.jpg\")\n",
    "name = \"Trackbar\"\n",
    "trackbar_name = \"Rotation\"\n",
    "cv2.namedWindow(name)\n",
    "\n",
    "cv2.createTrackbar(\"Rotation\", name, 0, 360, lambda x: x)\n",
    "\n",
    "while True:\n",
    "    angle = cv2.getTrackbarPos(trackbar_name, name)\n",
    "    center = (img.shape[1]/2, img.shape[0]/2)\n",
    "    affine = cv2.getRotationMatrix2D(center, angle, 2)\n",
    "    dst = cv2.warpAffine(img, affine, (img.shape[1], img.shape[0]))\n",
    "\n",
    "    cv2.imshow(name, dst)\n",
    "\n",
    "    if cv2.waitKey(1) == ord('q'):\n",
    "        break\n",
    "\n",
    "cv2.destroyAllWindows()"
   ]
  },
  {
   "cell_type": "markdown",
   "metadata": {},
   "source": [
    "### 실습2-2. Threshold에 적용"
   ]
  },
  {
   "cell_type": "code",
   "execution_count": 21,
   "metadata": {},
   "outputs": [],
   "source": [
    "img = cv2.imread(BOOK, cv2.IMREAD_GRAYSCALE)\n",
    "name = \"Trackbar\"\n",
    "trackbar_name = \"threshold\"\n",
    "cv2.namedWindow(name)\n",
    "\n",
    "cv2.createTrackbar(trackbar_name, name, 127, 255, lambda x:x) #트랙바 기본값-127, 트래바 최대값-255\n",
    "\n",
    "while True:\n",
    "    threshold = cv2.getTrackbarPos(trackbar_name, name)\n",
    "    ret, binary = cv2.threshold(img, threshold, 255, cv2.THRESH_BINARY) #threshold타입에 최대값이 255\n",
    "\n",
    "    cv2.imshow(name, binary)\n",
    "\n",
    "    if cv2.waitKey(1) == ord('q'):\n",
    "        break\n",
    "\n",
    "cv2.destroyAllWindows()"
   ]
  },
  {
   "cell_type": "markdown",
   "metadata": {},
   "source": [
    "### 실습2-3. 컬러 팔레트 만들기"
   ]
  },
  {
   "cell_type": "code",
   "execution_count": 51,
   "metadata": {},
   "outputs": [],
   "source": [
    "img = np.zeros((200,500,3), dtype=np.uint8)\n",
    "\n",
    "name = \"image\"\n",
    "trackbar_name1 = \"R\"\n",
    "trackbar_name2 = \"G\"\n",
    "trackbar_name3 = \"B\"\n",
    "trackbar_name4 = \"0:OFF\\n1:ON\"\n",
    "\n",
    "cv2.namedWindow(name)\n",
    "\n",
    "cv2.createTrackbar(trackbar_name1, name, 0, 255, lambda x:x) \n",
    "cv2.createTrackbar(trackbar_name2, name, 0, 255, lambda x:x) \n",
    "cv2.createTrackbar(trackbar_name3, name, 0, 255, lambda x:x) \n",
    "cv2.createTrackbar(trackbar_name4, name, 0, 1, lambda x:x)\n",
    "\n",
    "while True:\n",
    "    red = cv2.getTrackbarPos(trackbar_name1, name)\n",
    "    green = cv2.getTrackbarPos(trackbar_name2, name)\n",
    "    blue = cv2.getTrackbarPos(trackbar_name3, name)\n",
    "    switch = cv2.getTrackbarPos(trackbar_name4, name)\n",
    "\n",
    "    if switch == 1:\n",
    "        img[:] = (blue, green, red)\n",
    "\n",
    "    cv2.imshow(name, img)\n",
    "\n",
    "    if cv2.waitKey(1) == ord('q'):\n",
    "        break\n",
    "\n",
    "cv2.destroyAllWindows()\n"
   ]
  },
  {
   "cell_type": "markdown",
   "metadata": {},
   "source": [
    "### 8-2. 적응형 이진화(Adaptive threshold)\n",
    "- 블록마다 다른 임계값을 적용"
   ]
  },
  {
   "cell_type": "code",
   "execution_count": 54,
   "metadata": {},
   "outputs": [],
   "source": [
    "img = cv2.imread(BOOK, cv2.IMREAD_GRAYSCALE)\n",
    "name = \"Adaptive\"\n",
    "cv2.namedWindow(name)\n",
    "\n",
    "cv2.createTrackbar(\"block_size\", name, 25,100, lambda x: x) #1보다 큰 홀수만 가능\n",
    "cv2.createTrackbar(\"C\", name, 1,10, lambda x: x) #일반적으로 양수를 사용\n",
    "\n",
    "while True:\n",
    "    block_size = cv2.getTrackbarPos(\"block_size\", name)\n",
    "    C = cv2.getTrackbarPos(\"C\", name)\n",
    "\n",
    "    if block_size <= 1:\n",
    "        block_size = 3\n",
    "\n",
    "    if block_size % 2 == 0:\n",
    "        block_size +=1\n",
    "\n",
    "    binary = cv2.adaptiveThreshold(img, 255, cv2.ADAPTIVE_THRESH_MEAN_C, cv2.THRESH_BINARY, block_size, C)\n",
    "    cv2.imshow(name, binary)\n",
    "\n",
    "    if cv2.waitKey(1) == ord(\"q\"):\n",
    "        break\n",
    "\n",
    "\n",
    "cv2.destroyAllWindows()"
   ]
  }
 ],
 "metadata": {
  "kernelspec": {
   "display_name": "my_cv",
   "language": "python",
   "name": "python3"
  },
  "language_info": {
   "codemirror_mode": {
    "name": "ipython",
    "version": 3
   },
   "file_extension": ".py",
   "mimetype": "text/x-python",
   "name": "python",
   "nbconvert_exporter": "python",
   "pygments_lexer": "ipython3",
   "version": "3.13.1"
  }
 },
 "nbformat": 4,
 "nbformat_minor": 2
}
