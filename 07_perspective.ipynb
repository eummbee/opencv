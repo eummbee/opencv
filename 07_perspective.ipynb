{
 "cells": [
  {
   "cell_type": "markdown",
   "metadata": {},
   "source": [
    "## 07. 원근 변환"
   ]
  },
  {
   "cell_type": "code",
   "execution_count": 1,
   "metadata": {},
   "outputs": [],
   "source": [
    "import cv2\n",
    "import numpy as np\n",
    "CARD = \"images/card.jpg\""
   ]
  },
  {
   "cell_type": "code",
   "execution_count": 4,
   "metadata": {},
   "outputs": [],
   "source": [
    "img = cv2.imread(CARD)\n",
    "\n",
    "width, height = 600, 350\n",
    "\n",
    "# 변형할 지점 선택 : 시계방향\n",
    "src = np.array([[54,261], [981,128], [1213,560], [194,735]], dtype=np.float32)\n",
    "\n",
    "#결과를 출력할 형태 : 시계방향\n",
    "dst = np.array([[0,0], [width,0], [width, height], [0,height]], dtype=np.float32)\n",
    "\n",
    "#원근을 변형하기 위한 matrix 생성\n",
    "mat = cv2.getPerspectiveTransform(src, dst)\n",
    "\n",
    "#img를 mat에 의해 변환\n",
    "result = cv2.warpPerspective(img, mat, (width, height)) \n",
    "\n",
    "cv2.imshow(\"img\", img)\n",
    "cv2.imshow(\"perspective\", result)\n",
    "\n",
    "cv2.waitKey(0)\n",
    "cv2.destroyAllWindows()"
   ]
  },
  {
   "cell_type": "markdown",
   "metadata": {},
   "source": [
    "### 실습1. 이미지 원근 변환하기"
   ]
  },
  {
   "cell_type": "code",
   "execution_count": 8,
   "metadata": {},
   "outputs": [],
   "source": [
    "img = cv2.imread(\"images/book.jpg\")\n",
    "img1 = cv2.resize(img, None, fx=0.3, fy=0.3, interpolation=cv2.INTER_CUBIC)\n",
    "\n",
    "width, height = 500, 600\n",
    "src = np.array([[627,829], [1480,446], [2360,1261], [1444,1753]], dtype=np.float32)\n",
    "dst = np.array([[0,0], [width,0], [width, height], [0,height]], dtype=np.float32)\n",
    "\n",
    "mat = cv2.getPerspectiveTransform(src, dst)\n",
    "result = cv2.warpPerspective(img, mat, (width, height))\n",
    "\n",
    "cv2.imshow(\"img\", img1)\n",
    "cv2.imshow(\"perspective\", result)\n",
    "\n",
    "cv2.waitKey(0)\n",
    "cv2.destroyAllWindows()\n"
   ]
  },
  {
   "cell_type": "code",
   "execution_count": null,
   "metadata": {},
   "outputs": [],
   "source": []
  }
 ],
 "metadata": {
  "kernelspec": {
   "display_name": "my_cv",
   "language": "python",
   "name": "python3"
  },
  "language_info": {
   "codemirror_mode": {
    "name": "ipython",
    "version": 3
   },
   "file_extension": ".py",
   "mimetype": "text/x-python",
   "name": "python",
   "nbconvert_exporter": "python",
   "pygments_lexer": "ipython3",
   "version": "3.13.1"
  }
 },
 "nbformat": 4,
 "nbformat_minor": 2
}
