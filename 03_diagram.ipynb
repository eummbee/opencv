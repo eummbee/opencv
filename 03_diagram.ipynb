{
 "cells": [
  {
   "cell_type": "markdown",
   "metadata": {},
   "source": [
    "## 03. 도형 그리기"
   ]
  },
  {
   "cell_type": "code",
   "execution_count": 1,
   "metadata": {},
   "outputs": [],
   "source": [
    "import cv2\n",
    "import numpy as np"
   ]
  },
  {
   "cell_type": "markdown",
   "metadata": {},
   "source": [
    "### 3-1. 빈 화면 만들기"
   ]
  },
  {
   "cell_type": "code",
   "execution_count": 5,
   "metadata": {},
   "outputs": [],
   "source": [
    "img = np.zeros((460,640,3), dtype=np.uint8) #int : -128~127 vs uint : 0~255\n",
    "# img[:] = (255,255,255) #흰 화면 만들기\n",
    "cv2.imshow(\"blank\", img)\n",
    "cv2.waitKey(0)\n",
    "cv2.destroyAllWindows()"
   ]
  },
  {
   "cell_type": "markdown",
   "metadata": {},
   "source": [
    "### 3-2. 일부 영역 색칠"
   ]
  },
  {
   "cell_type": "code",
   "execution_count": 9,
   "metadata": {},
   "outputs": [],
   "source": [
    "img = np.zeros((460,640,3), dtype=np.uint8) #int : -128~127 vs uint : 0~255\n",
    "# img[:] = (255,255,255) #흰 화면 만들기\n",
    "img[190:270,280:360] = (100,119,164) #팬톤 올해의 색 -> 모카무스 사각형 만들기\n",
    "cv2.imshow(\"img\", img)\n",
    "cv2.waitKey(0)\n",
    "cv2.destroyAllWindows()"
   ]
  },
  {
   "cell_type": "markdown",
   "metadata": {},
   "source": [
    "### 3-3. 선 그리기"
   ]
  },
  {
   "cell_type": "code",
   "execution_count": 16,
   "metadata": {},
   "outputs": [],
   "source": [
    "img = np.zeros((460,640,3), dtype=np.uint8)\n",
    "\n",
    "cv2.line(img, (50,100), (400,50), (0,0,255), 5, cv2.LINE_4)\n",
    "cv2.line(img, (150,100), (500,50), (0,255,0), 5, cv2.LINE_8)\n",
    "cv2.line(img, (250,100), (600,50), (255,0,0), 5, cv2.LINE_AA)\n",
    "\n",
    "cv2.imshow(\"line\", img)\n",
    "cv2.waitKey(0)\n",
    "cv2.destroyAllWindows()"
   ]
  },
  {
   "cell_type": "markdown",
   "metadata": {},
   "source": [
    "### 3-4. 원 그리기"
   ]
  },
  {
   "cell_type": "code",
   "execution_count": 26,
   "metadata": {},
   "outputs": [],
   "source": [
    "img = np.zeros((460,640,3), dtype=np.uint8)\n",
    "\n",
    "RADIUS = 50\n",
    "COLOR = (212,177,203)\n",
    "THICKNESS = 10\n",
    "\n",
    "cv2.circle(img, (200,300), RADIUS, COLOR, THICKNESS, cv2.LINE_AA) #속이 비어있는 원\n",
    "cv2.circle(img, (400,300), RADIUS, COLOR, cv2.FILLED, cv2.LINE_AA) #속이 찬 원\n",
    "\n",
    "cv2.imshow(\"circle\", img)\n",
    "cv2.waitKey(0)\n",
    "cv2.destroyAllWindows()"
   ]
  },
  {
   "cell_type": "markdown",
   "metadata": {},
   "source": [
    "### 3-5. 타원 그리기"
   ]
  },
  {
   "cell_type": "code",
   "execution_count": 32,
   "metadata": {},
   "outputs": [],
   "source": [
    "img = np.zeros((460,640,3), dtype=np.uint8)\n",
    "\n",
    "cv2.ellipse(img, (320,230), (100,50), 0, 0, 270, COLOR, 5, cv2.LINE_AA)\n",
    "cv2.imshow(\"ellipse\", img)\n",
    "cv2.waitKey(0)\n",
    "cv2.destroyAllWindows()"
   ]
  },
  {
   "cell_type": "markdown",
   "metadata": {},
   "source": [
    "### 3-6. 사각형 그리기"
   ]
  },
  {
   "cell_type": "code",
   "execution_count": 39,
   "metadata": {},
   "outputs": [],
   "source": [
    "img = np.zeros((460,640,3), dtype=np.uint8)\n",
    "\n",
    "cv2.rectangle(img, (50, 50), (250,250), COLOR, 10, cv2.LINE_AA)\n",
    "cv2.rectangle(img, (260, 50), (400,400), COLOR, 10, cv2.FILLED, cv2.LINE_AA)\n",
    "cv2.imshow(\"rectangle\", img)\n",
    "cv2.waitKey(0)\n",
    "cv2.destroyAllWindows()"
   ]
  },
  {
   "cell_type": "markdown",
   "metadata": {},
   "source": [
    "### 3-7. 다각형(선)"
   ]
  },
  {
   "cell_type": "code",
   "execution_count": 40,
   "metadata": {},
   "outputs": [],
   "source": [
    "img = np.zeros((460,640,3), dtype=np.uint8)\n",
    "pts = np.array([[100,100],[200,100],[100,200]])\n",
    "\n",
    "cv2.polylines(img, [pts], True, (255,0,255), 5)\n",
    "cv2.imshow(\"polylines\", img)\n",
    "cv2.waitKey(0)\n",
    "cv2.destroyAllWindows()"
   ]
  },
  {
   "cell_type": "markdown",
   "metadata": {},
   "source": [
    "### 3-8. 다각형 채우기\n",
    "- 닫는 여부 X"
   ]
  },
  {
   "cell_type": "code",
   "execution_count": 85,
   "metadata": {},
   "outputs": [],
   "source": [
    "img = np.zeros((460,640,3), dtype=np.uint8)\n",
    "pts = np.array([[100,100],[200,100],[100,200]])\n",
    "\n",
    "cv2.fillPoly(img, [pts], (255,0,255))\n",
    "cv2.imshow(\"polylines\", img)\n",
    "cv2.waitKey(0)\n",
    "cv2.destroyAllWindows()"
   ]
  },
  {
   "cell_type": "markdown",
   "metadata": {},
   "source": [
    "### 실습1. 도형 그려보기"
   ]
  },
  {
   "cell_type": "code",
   "execution_count": 86,
   "metadata": {},
   "outputs": [],
   "source": [
    "img = np.zeros((460,640,3), dtype=np.uint8)\n",
    "\n",
    "COLOR = (212,177,203)\n",
    "COLOR1 = (211,85,186)\n",
    "COLOR2 = (221,160,221)\n",
    "COLOR3 = (238,130,238)\n",
    "COLOR4 = (226,43,138)\n",
    "THICKNESS = 10\n",
    "\n",
    "pts = np.array([[200,300],[300,250],[200,190]])\n",
    "pts1 = np.array([[350,300],[450,250],[350,190]])\n",
    "\n",
    "cv2.line(img, (50,50), (100,150), COLOR, THICKNESS, cv2.LINE_AA)\n",
    "cv2.circle(img, (200,100), 50, COLOR1, THICKNESS, cv2.LINE_AA)\n",
    "cv2.ellipse(img, (400,100), (100,50), 0,0,360, COLOR2, THICKNESS, cv2.LINE_AA)\n",
    "cv2.rectangle(img, (50,200), (150,300), COLOR3, THICKNESS, cv2.LINE_AA)\n",
    "cv2.polylines(img, [pts], True, COLOR4, THICKNESS)\n",
    "cv2.fillPoly(img, [pts1], COLOR4)\n",
    "\n",
    "cv2.imshow(\"practice\", img)\n",
    "cv2.waitKey(0)\n",
    "cv2.destroyAllWindows()"
   ]
  },
  {
   "cell_type": "code",
   "execution_count": null,
   "metadata": {},
   "outputs": [],
   "source": []
  },
  {
   "cell_type": "code",
   "execution_count": null,
   "metadata": {},
   "outputs": [],
   "source": []
  }
 ],
 "metadata": {
  "kernelspec": {
   "display_name": "my_cv",
   "language": "python",
   "name": "python3"
  },
  "language_info": {
   "codemirror_mode": {
    "name": "ipython",
    "version": 3
   },
   "file_extension": ".py",
   "mimetype": "text/x-python",
   "name": "python",
   "nbconvert_exporter": "python",
   "pygments_lexer": "ipython3",
   "version": "3.13.1"
  }
 },
 "nbformat": 4,
 "nbformat_minor": 2
}
