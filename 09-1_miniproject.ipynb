{
 "cells": [
  {
   "cell_type": "code",
   "execution_count": 2,
   "metadata": {},
   "outputs": [],
   "source": [
    "import cv2\n",
    "import numpy as np\n",
    "\n",
    "# 스캔에 사용할 이미지를 입력합니다\n",
    "img = cv2.imread(\"images/card.jpg\")\n",
    "# 포인트를 저장할 리스트를 생성합니다\n",
    "point_list = []\n",
    "\n",
    "# 최종 결과를 출력하는 함수입니다\n",
    "def show_result():\n",
    "    width, height = 600, 350\n",
    "    src = np.array(point_list, dtype=np.float32)\n",
    "    dst = np.array([[0,0], [width,0], [width, height], [0,height]], dtype=np.float32)\n",
    "    mat = cv2.getPerspectiveTransform(src, dst)\n",
    "    result = cv2.warpPerspective(img, mat, (width, height)) \n",
    "    cv2.imshow(\"result\", result)\n",
    "\n",
    "# 마우스 이벤트와 함께 실행되는 콜백함수입니다.\n",
    "drawing = False\n",
    "\n",
    "def onMouse(event, x, y, flags, _):\n",
    "    global drawing #함수안에서 변수를 선언하면 함수를 실행할때마다 실행되기 때문에 밖에서 선언하고 전역변수로 바꿔야한다.\n",
    "    copied = img.copy()\n",
    "\n",
    "    if event == cv2.EVENT_LBUTTONDOWN:\n",
    "        drawing = True \n",
    "        point_list.append([x,y])\n",
    "\n",
    "    if drawing: # 버튼을 누르면\n",
    "        prev_point = None\n",
    "        for point in point_list:\n",
    "            cv2.circle(copied, point, 5, (0, 255, 255), cv2.FILLED)\n",
    "            if prev_point:\n",
    "                cv2.line(copied, prev_point, point, (0,255,255), 4)\n",
    "            prev_point = point\n",
    "            \n",
    "\n",
    "        next_point = (x,y)\n",
    "        # 조건을 만족하면 결과를 출력하는 함수를 실행합니다.\n",
    "        if len(point_list) == 4:\n",
    "            next_point = point_list[0]\n",
    "            show_result()\n",
    "            \n",
    "        cv2.line(copied, point_list[-1], next_point, (0,255,255), 4)\n",
    "\n",
    "    cv2.imshow(name, copied)\n",
    "\n",
    "\n",
    "\n",
    "\n",
    "# 기본적인 코드 실행입니다.\n",
    "name = \"Scanner\"\n",
    "cv2.namedWindow(name)\n",
    "cv2.setMouseCallback(name, onMouse)\n",
    "cv2.imshow(name, img)\n",
    "cv2.waitKey(0)\n",
    "cv2.destroyAllWindows()"
   ]
  },
  {
   "cell_type": "markdown",
   "metadata": {},
   "source": []
  }
 ],
 "metadata": {
  "kernelspec": {
   "display_name": "my_cv",
   "language": "python",
   "name": "python3"
  },
  "language_info": {
   "codemirror_mode": {
    "name": "ipython",
    "version": 3
   },
   "file_extension": ".py",
   "mimetype": "text/x-python",
   "name": "python",
   "nbconvert_exporter": "python",
   "pygments_lexer": "ipython3",
   "version": "3.13.1"
  }
 },
 "nbformat": 4,
 "nbformat_minor": 2
}
