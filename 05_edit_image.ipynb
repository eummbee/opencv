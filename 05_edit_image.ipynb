{
 "cells": [
  {
   "cell_type": "markdown",
   "metadata": {},
   "source": [
    "## 05.이미지 조정"
   ]
  },
  {
   "cell_type": "code",
   "execution_count": 1,
   "metadata": {},
   "outputs": [],
   "source": [
    "import cv2\n",
    "import numpy as np"
   ]
  },
  {
   "cell_type": "code",
   "execution_count": 85,
   "metadata": {},
   "outputs": [],
   "source": [
    "GOM_PATH = \"images/gom.jpg\"\n",
    "IU = \"images/iu.png\""
   ]
  },
  {
   "cell_type": "markdown",
   "metadata": {},
   "source": [
    "### 5-1. 이미지 복사"
   ]
  },
  {
   "cell_type": "code",
   "execution_count": 3,
   "metadata": {},
   "outputs": [],
   "source": [
    "img = cv2.imread(GOM_PATH)\n",
    "shallow_copy = img # 얕은 복사\n",
    "\n",
    "deep_copy = img.copy() # 깊은 복사\n",
    "gray = cv2.cvtColor(shallow_copy, cv2.COLOR_BGR2GRAY)\n",
    "\n",
    "cv2.imshow(\"original\", img)\n",
    "cv2.imshow(\"shallow\", gray)\n",
    "\n",
    "cv2.waitKey(0)\n",
    "cv2.destroyAllWindows()"
   ]
  },
  {
   "cell_type": "markdown",
   "metadata": {},
   "source": [
    "### 5-2. 리사이즈"
   ]
  },
  {
   "cell_type": "code",
   "execution_count": 13,
   "metadata": {},
   "outputs": [],
   "source": [
    "img = cv2.imread(GOM_PATH)\n",
    "img.shape\n",
    "\n",
    "# 고정 크기를 입력해서 조정\n",
    "# dst = cv2.resize(img, (300,300))\n",
    "\n",
    "# 비율로 조정\n",
    "dst = cv2.resize(img, None, fx=2, fy=2)\n",
    "cubic = cv2.resize(img, None, fx=2, fy=2, interpolation=cv2.INTER_CUBIC)\n",
    "\n",
    "cv2.imshow(\"resize\", dst)\n",
    "cv2.imshow(\"cubic\", cubic)\n",
    "cv2.waitKey(0)\n",
    "cv2.destroyAllWindows()"
   ]
  },
  {
   "cell_type": "markdown",
   "metadata": {},
   "source": [
    "### 실습2. 영상 리사이즈해서 출력"
   ]
  },
  {
   "cell_type": "code",
   "execution_count": 16,
   "metadata": {},
   "outputs": [],
   "source": [
    "video = cv2.VideoCapture(\"images/animal.mp4\")\n",
    "\n",
    "while video.isOpened():\n",
    "    ret, frame = video.read()\n",
    "\n",
    "    if not ret:\n",
    "        break\n",
    "\n",
    "    cubic = cv2.resize(frame, None, fx=1.5, fy=1.5, interpolation=cv2.INTER_CUBIC)\n",
    "    cv2.imshow(\"video_resize\", cubic)\n",
    "    cv2.imshow(\"original\", frame)\n",
    "\n",
    "    if cv2.waitKey(1) == ord(\"q\"):\n",
    "        break\n",
    "video.release()\n",
    "cv2.destroyAllWindows()\n"
   ]
  },
  {
   "cell_type": "code",
   "execution_count": 17,
   "metadata": {},
   "outputs": [],
   "source": [
    "img = cv2.imread(GOM_PATH)\n",
    "\n",
    "size_up = cv2.pyrUp(img)\n",
    "size_down = cv2.pyrDown(img)\n",
    "\n",
    "cv2.imshow(\"original\", img)\n",
    "cv2.imshow(\"Pyr up\", size_up)\n",
    "cv2.imshow(\"Pyr Down\", size_down)\n",
    "cv2.waitKey(0)\n",
    "cv2.destroyAllWindows()"
   ]
  },
  {
   "cell_type": "markdown",
   "metadata": {},
   "source": [
    "### 5-3. 이미지 자르기"
   ]
  },
  {
   "cell_type": "code",
   "execution_count": 31,
   "metadata": {},
   "outputs": [],
   "source": [
    "img = cv2.imread(GOM_PATH)\n",
    "\n",
    "cropped = img[80:150, 100:200]\n",
    "img[70:140, 100:200] = cropped\n",
    "\n",
    "cv2.imshow(\"Dog\", img)\n",
    "cv2.imshow(\"Dog Cropped\", cropped)\n",
    "\n",
    "cv2.waitKey(0)\n",
    "cv2.destroyAllWindows()"
   ]
  },
  {
   "cell_type": "markdown",
   "metadata": {},
   "source": [
    "### 5-4. 이미지 대칭\n",
    "- 'flipcode > 0' : 좌우 반전 (y축 반전)\n",
    "- 'flipcode == 0' : 상하 반전 (x축 반전)\n",
    "- 'flipcode < 0' : 상하좌우 반전 "
   ]
  },
  {
   "cell_type": "code",
   "execution_count": 33,
   "metadata": {},
   "outputs": [],
   "source": [
    "img = cv2.imread(GOM_PATH)\n",
    "\n",
    "dst_1 = cv2.flip(img, 1)\n",
    "dst_2 = cv2.flip(img, 0)\n",
    "dst_3 = cv2.flip(img, -1)\n",
    "\n",
    "cv2.imshow(\"img\", img)\n",
    "cv2.imshow(\"dst_1\", dst_1)\n",
    "cv2.imshow(\"dst_2\", dst_2)\n",
    "cv2.imshow(\"dst_3\", dst_3)\n",
    "\n",
    "cv2.waitKey(0)\n",
    "cv2.destroyAllWindows()"
   ]
  },
  {
   "cell_type": "markdown",
   "metadata": {},
   "source": [
    "### 실습3. 이미지 조정"
   ]
  },
  {
   "cell_type": "code",
   "execution_count": 65,
   "metadata": {},
   "outputs": [],
   "source": [
    "img = cv2.imread(\"images/singer.jpg\")\n",
    "img.shape\n",
    "\n",
    "img = cv2.resize(img, None, fx=0.3, fy=0.3, interpolation=cv2.INTER_CUBIC)\n",
    "height, width, channel = img.shape\n",
    "\n",
    "dst = cv2.resize(img, None, fx=0.5, fy=0.5, interpolation=cv2.INTER_CUBIC)\n",
    "dst_1 = cv2.flip(dst, 1) # 좌우반전\n",
    "dheight, dwidth, dchannel = dst_1.shape\n",
    "\n",
    "img[height-dheight:, width-dwidth:] = dst_1 #[원본길이 - 축소한 길이 : 원본길이까지]\n",
    "\n",
    "cv2.imshow(\"img\",img)\n",
    "\n",
    "cv2.waitKey(0)\n",
    "cv2.destroyAllWindows()"
   ]
  },
  {
   "cell_type": "code",
   "execution_count": 69,
   "metadata": {},
   "outputs": [],
   "source": [
    "img = cv2.imread(\"images/iu.png\")\n",
    "\n",
    "blue, green, red = cv2.split(img)\n",
    "merged_image = cv2.merge([blue, green, red])\n",
    "cv2.imshow(\"merged\", merged_image)\n",
    "\n",
    "cv2.waitKey(0)\n",
    "cv2.destroyAllWindows()"
   ]
  },
  {
   "cell_type": "markdown",
   "metadata": {},
   "source": [
    "### 5-4. 이미지 색상 변경"
   ]
  },
  {
   "cell_type": "code",
   "execution_count": 72,
   "metadata": {},
   "outputs": [],
   "source": [
    "img = cv2.imread(GOM_PATH)\n",
    "gray = cv2.cvtColor(img, cv2.COLOR_BGR2GRAY)\n",
    "rgb = cv2.cvtColor(img, cv2.COLOR_BGR2RGB)\n",
    "\n",
    "cv2.imshow(\"gray\", gray)\n",
    "cv2.imshow(\"rgb\", rgb)\n",
    "\n",
    "cv2.waitKey(0)\n",
    "cv2.destroyAllWindows()"
   ]
  },
  {
   "cell_type": "markdown",
   "metadata": {},
   "source": [
    "### 실습4. 이미지 흑백 반전"
   ]
  },
  {
   "cell_type": "code",
   "execution_count": 79,
   "metadata": {},
   "outputs": [],
   "source": [
    "img = cv2.imread(GOM_PATH)\n",
    "gray = cv2.cvtColor(img, cv2.COLOR_BGR2GRAY)\n",
    "gray2 = cv2.cvtColor(img, cv2.COLOR_BGR2GRAY)\n",
    "gray2 = 255 - gray2 # 흑백 반전\n",
    "\n",
    "cv2.imshow(\"gray\", gray)\n",
    "cv2.imshow(\"gray2\", gray2)\n",
    "\n",
    "cv2.waitKey(0)\n",
    "cv2.destroyAllWindows()"
   ]
  },
  {
   "cell_type": "markdown",
   "metadata": {},
   "source": [
    "### 5-5. 이미지 흐리기(GaussianBlur)"
   ]
  },
  {
   "cell_type": "code",
   "execution_count": 87,
   "metadata": {},
   "outputs": [],
   "source": [
    "img = cv2.imread(IU)\n",
    "\n",
    "#커널을 사용하는 방식\n",
    "#(3,3), (4,4), (7,7)\n",
    "dst = cv2.GaussianBlur(img, (3,3), 0)\n",
    "dst1 = cv2.GaussianBlur(img, (5,5), 0)\n",
    "dst2 = cv2.GaussianBlur(img, (7,7), 0)\n",
    "\n",
    "#표준편차를 사용하는 방식\n",
    "dsts = cv2.GaussianBlur(img, (0,0), 1)\n",
    "dsts1 = cv2.GaussianBlur(img, (0,0), 3)\n",
    "dsts2 = cv2.GaussianBlur(img, (0,0), 5)\n",
    "\n",
    "cv2.imshow(\"3\", dsts)\n",
    "cv2.imshow(\"5\", dsts1)\n",
    "cv2.imshow(\"7\", dsts2)\n",
    "\n",
    "cv2.waitKey(0)\n",
    "cv2.destroyAllWindows()\n"
   ]
  },
  {
   "cell_type": "markdown",
   "metadata": {},
   "source": [
    "### 5-6. 이미지 회전\n",
    "- rotateCode\n",
    "    - cv2.ROTATE_90_CLOCKWISE : 시계방향 90도 회전\n",
    "    - cv2.ROTATE_180 : 180도 회전\n",
    "    - cv2.ROTATE_90_COUNTERCLOCKWISE : 반시계방향 90도 회전"
   ]
  },
  {
   "cell_type": "code",
   "execution_count": 89,
   "metadata": {},
   "outputs": [],
   "source": [
    "img = cv2.imread(GOM_PATH)\n",
    "\n",
    "#rotate 사용하기\n",
    "dst_90 = cv2.rotate(img, cv2.ROTATE_90_CLOCKWISE)\n",
    "dst_180 = cv2.rotate(img, cv2.ROTATE_180)\n",
    "dst_90_counter = cv2.rotate(img, cv2.ROTATE_90_COUNTERCLOCKWISE)\n",
    "\n",
    "cv2.imshow(\"0\", img)\n",
    "cv2.imshow(\"90\", dst_90)\n",
    "cv2.imshow(\"180\", dst_180)\n",
    "cv2.imshow(\"90_counter\", dst_90_counter)\n",
    "\n",
    "cv2.waitKey(0)\n",
    "cv2.destroyAllWindows()\n"
   ]
  },
  {
   "cell_type": "code",
   "execution_count": 92,
   "metadata": {},
   "outputs": [],
   "source": [
    "#affine 변환 사용\n",
    "img = cv2.imread(GOM_PATH)\n",
    "center = (img.shape[1]/2, img.shape[0]/2)\n",
    "affine = cv2.getRotationMatrix2D(center, 45, 1)\n",
    "dst = cv2.warpAffine(img, affine, (img.shape[1], img.shape[0]))\n",
    "\n",
    "cv2.imshow(\"origin\", img)\n",
    "cv2.imshow(\"Rotate\", dst)\n",
    "\n",
    "cv2.waitKey(0)\n",
    "cv2.destroyAllWindows()"
   ]
  },
  {
   "cell_type": "code",
   "execution_count": 93,
   "metadata": {},
   "outputs": [],
   "source": [
    "import math\n",
    "img = cv2.imread(GOM_PATH)\n",
    "\n",
    "#affine 행렬 만들어서 회전 시키기\n",
    "rad = 45*math.pi/180\n",
    "affine = np.array([[math.cos(rad), -math.sin(rad), 0], [math.sin(rad), math.cos(rad), 0]])\n",
    "dst = cv2.warpAffine(img, affine, (img.shape[1], img.shape[0]))\n",
    "\n",
    "cv2.imshow(\"origin\", img)\n",
    "cv2.imshow(\"Rotate\", dst)\n",
    "\n",
    "cv2.waitKey(0)\n",
    "cv2.destroyAllWindows()"
   ]
  },
  {
   "cell_type": "code",
   "execution_count": null,
   "metadata": {},
   "outputs": [],
   "source": []
  }
 ],
 "metadata": {
  "kernelspec": {
   "display_name": "my_cv",
   "language": "python",
   "name": "python3"
  },
  "language_info": {
   "codemirror_mode": {
    "name": "ipython",
    "version": 3
   },
   "file_extension": ".py",
   "mimetype": "text/x-python",
   "name": "python",
   "nbconvert_exporter": "python",
   "pygments_lexer": "ipython3",
   "version": "3.13.1"
  }
 },
 "nbformat": 4,
 "nbformat_minor": 2
}
