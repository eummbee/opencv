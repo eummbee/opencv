{
 "cells": [
  {
   "cell_type": "code",
   "execution_count": 2,
   "metadata": {},
   "outputs": [
    {
     "name": "stdout",
     "output_type": "stream",
     "text": [
      "Requirement already satisfied: pytesseract in c:\\users\\user\\codingon\\opencv\\my_cv\\lib\\site-packages (0.3.13)\n",
      "Requirement already satisfied: packaging>=21.3 in c:\\users\\user\\codingon\\opencv\\my_cv\\lib\\site-packages (from pytesseract) (24.2)\n",
      "Requirement already satisfied: Pillow>=8.0.0 in c:\\users\\user\\codingon\\opencv\\my_cv\\lib\\site-packages (from pytesseract) (11.1.0)\n",
      "Note: you may need to restart the kernel to use updated packages.\n"
     ]
    }
   ],
   "source": [
    "%pip install pytesseract"
   ]
  },
  {
   "cell_type": "markdown",
   "metadata": {},
   "source": [
    "## 15. tesseract - OCR"
   ]
  },
  {
   "cell_type": "code",
   "execution_count": 2,
   "metadata": {},
   "outputs": [],
   "source": [
    "from pytesseract import pytesseract as pyt\n",
    "import cv2"
   ]
  },
  {
   "cell_type": "code",
   "execution_count": 8,
   "metadata": {},
   "outputs": [
    {
     "name": "stdout",
     "output_type": "stream",
     "text": [
      "QAR\n",
      "oTS\n",
      "\n",
      "BSB: 230622-0103-0142-01\n",
      "상호:메이크커피\n",
      "220-09~33826 TEL)010-4288-9949 SAIS\n",
      "주소:서물특별시 강남구 강남대로94길 27 (역삼동)\n",
      "\n",
      "1즘\n",
      "\n",
      "테이불번오: KIOSK           주문담담자:관리자\n",
      "\n",
      "계산일자:2023-05-22             시간:13145:06\n",
      "\n",
      "=oe wat\n",
      "\n",
      "아메리카노                      3                  4, 200\n",
      "~>ICE                        3                     0\n",
      "\n",
      "[카 드 번 호] _35651604900634*\n",
      "[할부 개월] 0\n",
      "\n",
      "[카 도 사 명] NATE\n",
      "\n",
      "[a 인 번 호] 51423660\n",
      "\n",
      "(a 제 글 맥] 4,200\n",
      "\n",
      "\n"
     ]
    }
   ],
   "source": [
    "pyt.tesseract_cmd = r\"C:\\Program Files\\Tesseract-OCR\\tesseract.exe\"\n",
    "img = cv2.imread(\"images/bill.png\", cv2.IMREAD_GRAYSCALE)\n",
    "ret, binary = cv2.threshold(img, -1,255, cv2.THRESH_BINARY | cv2.THRESH_OTSU) #이진화를 하면 좀 더 잘 처리할 수 있다. (이미지가 단순해지기 때문)\n",
    "\n",
    "# text_1 = pyt.image_to_string(img, lang=\"kor+eng\")\n",
    "text_2 = pyt.image_to_string(binary, lang=\"kor+eng\")\n",
    "# print(text_1)\n",
    "print(text_2)"
   ]
  },
  {
   "cell_type": "markdown",
   "metadata": {},
   "source": [
    "### 실습4. 이미지에서 글자 인식"
   ]
  },
  {
   "cell_type": "code",
   "execution_count": 19,
   "metadata": {},
   "outputs": [
    {
     "name": "stdout",
     "output_type": "stream",
     "text": [
      "정지\n",
      "STOP\n",
      "\n"
     ]
    }
   ],
   "source": [
    "import cv2\n",
    "import numpy as np\n",
    "\n",
    "pyt.tesseract_cmd = r\"C:\\Program Files\\Tesseract-OCR\\tesseract.exe\"\n",
    "\n",
    "# 스캔에 사용할 이미지를 입력합니다\n",
    "img = cv2.imread(\"images/stop.png\")\n",
    "\n",
    "# 포인트를 저장할 리스트를 생성합니다\n",
    "point_list = []\n",
    "\n",
    "# 최종 결과를 출력하는 함수입니다\n",
    "def show_result():\n",
    "    width, height = 300, 300\n",
    "    src = np.array(point_list, dtype=np.float32)\n",
    "    dst = np.array([[0,0], [width,0], [width, height], [0,height]], dtype=np.float32)\n",
    "    mat = cv2.getPerspectiveTransform(src, dst)\n",
    "    result = cv2.warpPerspective(img, mat, (width, height))\n",
    "\n",
    "    # 글자 추출하기\n",
    "    gray = cv2.cvtColor(result, cv2.COLOR_BGR2GRAY)\n",
    "    ret, binary = cv2.threshold(gray, -1,255, cv2.THRESH_BINARY | cv2.THRESH_OTSU)\n",
    "    text = pyt.image_to_string(binary, lang=\"kor+eng\")\n",
    "    print(text)\n",
    "    cv2.imshow(\"result\", result)\n",
    "\n",
    "        \n",
    "\n",
    "# 마우스 이벤트와 함께 실행되는 콜백함수입니다.\n",
    "drawing = False\n",
    "\n",
    "def onMouse(event, x, y, flags, _):\n",
    "    global drawing #함수안에서 변수를 선언하면 함수를 실행할때마다 실행되기 때문에 밖에서 선언하고 전역변수로 바꿔야한다.\n",
    "    copied = img.copy()\n",
    "\n",
    "    if event == cv2.EVENT_LBUTTONDOWN:\n",
    "        drawing = True \n",
    "        point_list.append([x,y])\n",
    "\n",
    "    if drawing: # 버튼을 누르면\n",
    "        prev_point = None\n",
    "        for point in point_list:\n",
    "            cv2.circle(copied, point, 5, (0, 255, 255), cv2.FILLED)\n",
    "            if prev_point:\n",
    "                cv2.line(copied, prev_point, point, (0,255,255), 4)\n",
    "            prev_point = point\n",
    "            \n",
    "\n",
    "        next_point = (x,y)\n",
    "        # 조건을 만족하면 결과를 출력하는 함수를 실행합니다.\n",
    "        if len(point_list) == 4:\n",
    "            next_point = point_list[0]\n",
    "            show_result()\n",
    "            drawing = False # 결과가 하나만 나온다. if drawing에서 탈출하게 되기 때문.\n",
    "            \n",
    "        cv2.line(copied, point_list[-1], next_point, (0,255,255), 4)\n",
    "\n",
    "    cv2.imshow(name, copied)\n",
    "\n",
    "# 기본적인 코드 실행입니다.\n",
    "name = \"Scanner\"\n",
    "cv2.namedWindow(name)\n",
    "cv2.setMouseCallback(name, onMouse)\n",
    "cv2.imshow(name, img)\n",
    "\n",
    "cv2.waitKey(0)\n",
    "cv2.destroyAllWindows()"
   ]
  },
  {
   "cell_type": "code",
   "execution_count": null,
   "metadata": {},
   "outputs": [],
   "source": []
  },
  {
   "cell_type": "code",
   "execution_count": null,
   "metadata": {},
   "outputs": [],
   "source": []
  }
 ],
 "metadata": {
  "kernelspec": {
   "display_name": "my_cv",
   "language": "python",
   "name": "python3"
  },
  "language_info": {
   "codemirror_mode": {
    "name": "ipython",
    "version": 3
   },
   "file_extension": ".py",
   "mimetype": "text/x-python",
   "name": "python",
   "nbconvert_exporter": "python",
   "pygments_lexer": "ipython3",
   "version": "3.13.1"
  }
 },
 "nbformat": 4,
 "nbformat_minor": 2
}
