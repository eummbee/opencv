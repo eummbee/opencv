{
 "cells": [
  {
   "cell_type": "markdown",
   "metadata": {},
   "source": [
    "## 01. 이미지 입출력"
   ]
  },
  {
   "cell_type": "code",
   "execution_count": 2,
   "metadata": {},
   "outputs": [],
   "source": [
    "import cv2\n",
    "gom_path = \"images/gom.jpg\"\n",
    "gomm = \"images/gomm.png\""
   ]
  },
  {
   "cell_type": "code",
   "execution_count": 3,
   "metadata": {},
   "outputs": [
    {
     "name": "stdout",
     "output_type": "stream",
     "text": [
      "-1\n"
     ]
    }
   ],
   "source": [
    "img = cv2.imread(\"images/gom.jpg\")\n",
    "# print(img)\n",
    "cv2.imshow(\"image\",img)\n",
    "key = cv2.waitKey(0) # 키 입력을 무한대기 \n",
    "print(key) # 키 입력 없으면 -1 반환\n",
    "cv2.destroyAllWindows() # 창 닫기"
   ]
  },
  {
   "cell_type": "markdown",
   "metadata": {},
   "source": [
    "## 02. 이미지 불러오기 옵션\n",
    "- 'cv2.IMREAD_COLOR' : 이미지를 컬러로, 기본 옵션, 투명배경 무시\n",
    "- 'cv2.IMREAD_GRAYSCALE' : 이미지 흑백\n",
    "- 'cv2.IMREAD_UNCHANGED' : 이미지 원본"
   ]
  },
  {
   "cell_type": "code",
   "execution_count": 7,
   "metadata": {},
   "outputs": [
    {
     "name": "stdout",
     "output_type": "stream",
     "text": [
      "210 210 4\n"
     ]
    }
   ],
   "source": [
    "img_default = cv2.imread(gomm, cv2.IMREAD_COLOR)\n",
    "img_gray = cv2.imread(gomm, cv2.IMREAD_GRAYSCALE)\n",
    "img_unchanged = cv2.imread(gomm, cv2.IMREAD_UNCHANGED) # RGB + Alpha까지 4개의 채널을 불러옴\n",
    "\n",
    "cv2.imshow(\"default\", img_default)\n",
    "cv2.imshow(\"gray\", img_gray)\n",
    "cv2.imshow(\"origin\", img_unchanged)\n",
    "\n",
    "height, width, channel = img_unchanged.shape\n",
    "print(height, width, channel)\n",
    "\n",
    "cv2.waitKey(0)\n",
    "cv2.destroyAllWindows()"
   ]
  },
  {
   "cell_type": "code",
   "execution_count": null,
   "metadata": {},
   "outputs": [],
   "source": [
    "#괴도류팡 다녀감"
   ]
  },
  {
   "cell_type": "code",
   "execution_count": 8,
   "metadata": {},
   "outputs": [],
   "source": [
    "img = cv2.imread(gomm)\n",
    "cv2.imshow(\"img\", img)\n",
    "key = cv2.waitKey(0)\n",
    "if key == ord('q'): # 아스키코드 값을 출력해주는 함수 ord()\n",
    "    cv2.destroyAllWindows()"
   ]
  },
  {
   "cell_type": "markdown",
   "metadata": {},
   "source": [
    "## 03. 이미지 쓰기\n",
    "- 불러온 이미지를 파일로 생성"
   ]
  },
  {
   "cell_type": "code",
   "execution_count": 3,
   "metadata": {},
   "outputs": [],
   "source": [
    "img = cv2.imread(gom_path, cv2.IMREAD_GRAYSCALE)\n",
    "cv2.imwrite(\"output/new_gom.jpg\", img)\n",
    "cv2.imshow(\"gray\",img)\n",
    "cv2.waitKey(0)\n",
    "cv2.destroyAllWindows()"
   ]
  },
  {
   "cell_type": "code",
   "execution_count": null,
   "metadata": {},
   "outputs": [],
   "source": []
  }
 ],
 "metadata": {
  "kernelspec": {
   "display_name": "my_cv",
   "language": "python",
   "name": "python3"
  },
  "language_info": {
   "codemirror_mode": {
    "name": "ipython",
    "version": 3
   },
   "file_extension": ".py",
   "mimetype": "text/x-python",
   "name": "python",
   "nbconvert_exporter": "python",
   "pygments_lexer": "ipython3",
   "version": "3.13.1"
  }
 },
 "nbformat": 4,
 "nbformat_minor": 2
}
